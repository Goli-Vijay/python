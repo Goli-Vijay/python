{
 "cells": [
  {
   "cell_type": "code",
   "execution_count": 1,
   "id": "24c7079f",
   "metadata": {},
   "outputs": [
    {
     "name": "stdout",
     "output_type": "stream",
     "text": [
      "Hello World!!\n"
     ]
    }
   ],
   "source": [
    "print(\"Hello World!!\")"
   ]
  },
  {
   "cell_type": "code",
   "execution_count": 2,
   "id": "8290438e",
   "metadata": {},
   "outputs": [
    {
     "data": {
      "text/plain": [
       "True"
      ]
     },
     "execution_count": 2,
     "metadata": {},
     "output_type": "execute_result"
    }
   ],
   "source": [
    "5 in [2,3,4,5,6,7]"
   ]
  },
  {
   "cell_type": "code",
   "execution_count": 3,
   "id": "70b67604",
   "metadata": {},
   "outputs": [
    {
     "data": {
      "text/plain": [
       "False"
      ]
     },
     "execution_count": 3,
     "metadata": {},
     "output_type": "execute_result"
    }
   ],
   "source": [
    "8 in [2,3,4,5,6,7]"
   ]
  },
  {
   "cell_type": "code",
   "execution_count": 5,
   "id": "828ae7ed",
   "metadata": {},
   "outputs": [
    {
     "name": "stdout",
     "output_type": "stream",
     "text": [
      "34\n",
      "Fail\n"
     ]
    }
   ],
   "source": [
    "a=int(input())\n",
    "if a>=35:\n",
    "    print(\"pass\")\n",
    "else:\n",
    "    print(\"Fail\")"
   ]
  },
  {
   "cell_type": "code",
   "execution_count": 55,
   "id": "5909209e",
   "metadata": {},
   "outputs": [
    {
     "data": {
      "text/plain": [
       "[1, '1', 1.8, 'vijay']"
      ]
     },
     "execution_count": 55,
     "metadata": {},
     "output_type": "execute_result"
    }
   ],
   "source": [
    "l=[1,'1',1.8,'vijay']\n",
    "l"
   ]
  },
  {
   "cell_type": "code",
   "execution_count": 9,
   "id": "cc5b1f51",
   "metadata": {},
   "outputs": [
    {
     "name": "stdout",
     "output_type": "stream",
     "text": [
      "[10, 20, 30]\n",
      "[40, 50, 60]\n",
      "20\n",
      "50\n"
     ]
    }
   ],
   "source": [
    "l1=[[10,20,30],[40,50,60]]\n",
    "print(l1[0])\n",
    "print(l1[1])\n",
    "print(l1[0][1])\n",
    "print(l1[1][1])"
   ]
  },
  {
   "cell_type": "code",
   "execution_count": 53,
   "id": "d183b557",
   "metadata": {},
   "outputs": [
    {
     "name": "stdout",
     "output_type": "stream",
     "text": [
      "10 20 30 40 \n",
      "1 2 3 4 5 6 7 8 9 10 11 "
     ]
    }
   ],
   "source": [
    "for num in [10,20,30,40]:\n",
    "    print(num,end=\" \")\n",
    "print()\n",
    "for num in range(1,12):\n",
    "    print(num,end=\" \")"
   ]
  },
  {
   "cell_type": "code",
   "execution_count": 68,
   "id": "8794d668",
   "metadata": {},
   "outputs": [
    {
     "name": "stdout",
     "output_type": "stream",
     "text": [
      "1 2 4\n"
     ]
    }
   ],
   "source": [
    "print(*[1,2,4],sep='')"
   ]
  },
  {
   "cell_type": "code",
   "execution_count": 75,
   "id": "22f18ad3",
   "metadata": {},
   "outputs": [
    {
     "name": "stdout",
     "output_type": "stream",
     "text": [
      "['vijay', 'likki', 'raghu', 'karthik', 'tarun', 'vamsi']\n",
      "['vijay', 'likki', 'raghu', 'karthik', 'uma', 'tarun', 'vamsi']\n",
      "['karthik', 'likki', 'raghu', 'tarun', 'uma', 'vamsi', 'vijay']\n",
      "['karthik', 'likki', 'raghu', 'tarun', 'uma', 'vijay']\n",
      "['karthik', 'likki', 'raghu', 'tarun', 'uma', 'vijay', 'vamsi']\n",
      "['vamsi', 'vijay', 'uma', 'tarun', 'raghu', 'likki', 'karthik']\n"
     ]
    },
    {
     "ename": "NameError",
     "evalue": "name 'list1' is not defined",
     "output_type": "error",
     "traceback": [
      "\u001b[1;31m---------------------------------------------------------------------------\u001b[0m",
      "\u001b[1;31mNameError\u001b[0m                                 Traceback (most recent call last)",
      "\u001b[1;32m~\\AppData\\Local\\Temp\\ipykernel_10312\\3171538274.py\u001b[0m in \u001b[0;36m<module>\u001b[1;34m\u001b[0m\n\u001b[0;32m     13\u001b[0m \u001b[0mprint\u001b[0m\u001b[1;33m(\u001b[0m\u001b[0mlist1\u001b[0m\u001b[1;33m)\u001b[0m\u001b[1;33m\u001b[0m\u001b[1;33m\u001b[0m\u001b[0m\n\u001b[0;32m     14\u001b[0m \u001b[1;32mdel\u001b[0m \u001b[0mlist1\u001b[0m \u001b[1;31m#delete the whole list1\u001b[0m\u001b[1;33m\u001b[0m\u001b[1;33m\u001b[0m\u001b[0m\n\u001b[1;32m---> 15\u001b[1;33m \u001b[0mprint\u001b[0m\u001b[1;33m(\u001b[0m\u001b[0mlist1\u001b[0m\u001b[1;33m)\u001b[0m\u001b[1;33m\u001b[0m\u001b[1;33m\u001b[0m\u001b[0m\n\u001b[0m",
      "\u001b[1;31mNameError\u001b[0m: name 'list1' is not defined"
     ]
    }
   ],
   "source": [
    "list1=['vijay','likki','raghu','karthik','tarun','uma']\n",
    "list1[5]='vamsi' #replace operation\n",
    "print(list1)\n",
    "list1.insert(4,'uma')  #insert operation\n",
    "print(list1)\n",
    "list1.sort() #sort operation\n",
    "print(list1)\n",
    "del list1[5] #delete single element\n",
    "print(list1)\n",
    "list1.append('vamsi') #append operation\n",
    "print(list1)\n",
    "list1.reverse() #reverse operation\n",
    "print(list1)\n",
    "del list1 #delete the whole list1\n",
    "print(list1)"
   ]
  },
  {
   "cell_type": "code",
   "execution_count": 77,
   "id": "b4d8dca9",
   "metadata": {},
   "outputs": [
    {
     "data": {
      "text/plain": [
       "('animals', 'monkey', 'raghu')"
      ]
     },
     "execution_count": 77,
     "metadata": {},
     "output_type": "execute_result"
    }
   ],
   "source": [
    "tuple1=(\"animals\",\"monkey\",\"raghu\") #we can have nested tuples also\n",
    "tuple1"
   ]
  },
  {
   "cell_type": "code",
   "execution_count": 81,
   "id": "0c360a12",
   "metadata": {},
   "outputs": [
    {
     "ename": "TypeError",
     "evalue": "'tuple' object does not support item assignment",
     "output_type": "error",
     "traceback": [
      "\u001b[1;31m---------------------------------------------------------------------------\u001b[0m",
      "\u001b[1;31mTypeError\u001b[0m                                 Traceback (most recent call last)",
      "\u001b[1;32m~\\AppData\\Local\\Temp\\ipykernel_10312\\726257367.py\u001b[0m in \u001b[0;36m<module>\u001b[1;34m\u001b[0m\n\u001b[1;32m----> 1\u001b[1;33m \u001b[0mtuple1\u001b[0m\u001b[1;33m[\u001b[0m\u001b[1;36m2\u001b[0m\u001b[1;33m]\u001b[0m\u001b[1;33m=\u001b[0m\u001b[1;34m\"hi\"\u001b[0m\u001b[1;33m\u001b[0m\u001b[1;33m\u001b[0m\u001b[0m\n\u001b[0m\u001b[0;32m      2\u001b[0m \u001b[0mtuple1\u001b[0m\u001b[1;33m\u001b[0m\u001b[1;33m\u001b[0m\u001b[0m\n",
      "\u001b[1;31mTypeError\u001b[0m: 'tuple' object does not support item assignment"
     ]
    }
   ],
   "source": [
    "tuple1[2]=\"hi\" #tuples don't have any operations like list\n",
    "tuple1"
   ]
  },
  {
   "cell_type": "code",
   "execution_count": 5,
   "id": "7f56f909",
   "metadata": {},
   "outputs": [
    {
     "name": "stdout",
     "output_type": "stream",
     "text": [
      "5\n",
      "5\n",
      "5\n"
     ]
    }
   ],
   "source": [
    "#sequence operators\n",
    "#\"len\" - operator\n",
    "name=\"vijay\"\n",
    "l1=[12,34,56,67,88]\n",
    "tuple1=(12,34,56,67,88)\n",
    "print(len(name)) #\"len\" for finding length of given name ,list,tuple...\n",
    "print(len(l1))\n",
    "print(len(tuple1))"
   ]
  },
  {
   "cell_type": "code",
   "execution_count": 6,
   "id": "1f786fab",
   "metadata": {},
   "outputs": [
    {
     "name": "stdout",
     "output_type": "stream",
     "text": [
      "v\n",
      "34\n",
      "56\n"
     ]
    }
   ],
   "source": [
    "#select operator is like indexing\n",
    "print(name[0])\n",
    "print(l1[1])\n",
    "print(tuple1[2])"
   ]
  },
  {
   "cell_type": "code",
   "execution_count": 12,
   "id": "7676ecd5",
   "metadata": {},
   "outputs": [
    {
     "name": "stdout",
     "output_type": "stream",
     "text": [
      "ija\n",
      "[56, 67, 88]\n",
      "(67, 88)\n",
      "[56, 67, 88]\n",
      "[12, 34, 56, 67, 88]\n"
     ]
    }
   ],
   "source": [
    "#slice operator --->part of the list,tuple,string...\n",
    "print(name[1:4])\n",
    "print(l1[2:5])\n",
    "print(tuple1[3:6])\n",
    "print(l1[2:]) #from second index to last index\n",
    "print(l1[:5]) #from zeroth index to 5th index"
   ]
  },
  {
   "cell_type": "code",
   "execution_count": 15,
   "id": "dd015d38",
   "metadata": {},
   "outputs": [
    {
     "name": "stdout",
     "output_type": "stream",
     "text": [
      "1\n"
     ]
    }
   ],
   "source": [
    "#count operation\n",
    "print(name.count('i')) #for counting  purpose"
   ]
  },
  {
   "cell_type": "code",
   "execution_count": 16,
   "id": "3847cdbb",
   "metadata": {},
   "outputs": [
    {
     "name": "stdout",
     "output_type": "stream",
     "text": [
      "2\n"
     ]
    }
   ],
   "source": [
    "#index operation ---->for finding any index of the element or charcater\n",
    "print(name.index('j'))"
   ]
  },
  {
   "cell_type": "code",
   "execution_count": 25,
   "id": "296683ee",
   "metadata": {},
   "outputs": [
    {
     "name": "stdout",
     "output_type": "stream",
     "text": [
      "hi vijay\n",
      "[12, 34, 56, 67, 88, 1, 2, 3]\n",
      "(12, 34, 56, 67, 88, 2, 3)\n"
     ]
    }
   ],
   "source": [
    "#concatenation operator\n",
    "str1=\"hi \"\n",
    "print(str1+ name)\n",
    "l2=[1,2,3]\n",
    "print(l1+l2)\n",
    "t2=(2,3)\n",
    "print(tuple1+t2)\n",
    "#concatenating list+tuple will give error"
   ]
  },
  {
   "cell_type": "code",
   "execution_count": 27,
   "id": "9b85f7ba",
   "metadata": {},
   "outputs": [
    {
     "name": "stdout",
     "output_type": "stream",
     "text": [
      "12\n",
      "a\n",
      "12\n"
     ]
    }
   ],
   "source": [
    "#min operator---> finding the minimum value \n",
    "print(min(l1))\n",
    "print(min(name))\n",
    "print(min(tuple1))"
   ]
  },
  {
   "cell_type": "code",
   "execution_count": 29,
   "id": "6c5a048f",
   "metadata": {},
   "outputs": [
    {
     "name": "stdout",
     "output_type": "stream",
     "text": [
      "88\n",
      "y\n",
      "88\n"
     ]
    }
   ],
   "source": [
    "#max operator--->finding the maximum value \n",
    "print(max(l1))\n",
    "print(max(name))\n",
    "print(max(tuple1))"
   ]
  },
  {
   "cell_type": "code",
   "execution_count": 31,
   "id": "8ec8771e",
   "metadata": {},
   "outputs": [
    {
     "name": "stdout",
     "output_type": "stream",
     "text": [
      "257\n"
     ]
    },
    {
     "ename": "TypeError",
     "evalue": "unsupported operand type(s) for +: 'int' and 'str'",
     "output_type": "error",
     "traceback": [
      "\u001b[1;31m---------------------------------------------------------------------------\u001b[0m",
      "\u001b[1;31mTypeError\u001b[0m                                 Traceback (most recent call last)",
      "\u001b[1;32m~\\AppData\\Local\\Temp\\ipykernel_24044\\4167439029.py\u001b[0m in \u001b[0;36m<module>\u001b[1;34m\u001b[0m\n\u001b[0;32m      1\u001b[0m \u001b[1;31m#sum operator\u001b[0m\u001b[1;33m\u001b[0m\u001b[1;33m\u001b[0m\u001b[0m\n\u001b[0;32m      2\u001b[0m \u001b[0mprint\u001b[0m\u001b[1;33m(\u001b[0m\u001b[0msum\u001b[0m\u001b[1;33m(\u001b[0m\u001b[0ml1\u001b[0m\u001b[1;33m)\u001b[0m\u001b[1;33m)\u001b[0m\u001b[1;33m\u001b[0m\u001b[1;33m\u001b[0m\u001b[0m\n\u001b[1;32m----> 3\u001b[1;33m \u001b[0mprint\u001b[0m\u001b[1;33m(\u001b[0m\u001b[0msum\u001b[0m\u001b[1;33m(\u001b[0m\u001b[0mname\u001b[0m\u001b[1;33m)\u001b[0m\u001b[1;33m)\u001b[0m\u001b[1;33m\u001b[0m\u001b[1;33m\u001b[0m\u001b[0m\n\u001b[0m",
      "\u001b[1;31mTypeError\u001b[0m: unsupported operand type(s) for +: 'int' and 'str'"
     ]
    }
   ],
   "source": [
    "#sum operator\n",
    "print(sum(l1))\n",
    "print(sum(name)) #--> sum operator cant apply on the strings"
   ]
  },
  {
   "cell_type": "code",
   "execution_count": 42,
   "id": "633e6e12",
   "metadata": {},
   "outputs": [
    {
     "name": "stdout",
     "output_type": "stream",
     "text": [
      "Assignment\n",
      "-----------\n",
      "[10, 2, 34, 90, 87, 65]\n",
      "[10, 'apple', 34, 90, 87, 65]\n",
      "[10, 'apple', 34, 90, 87, 65]\n",
      "copying\n",
      "--------\n",
      "[10, 'apple', 34, 90, 87, 65]\n",
      "[10, 'apple', 34, 45, 87, 65]\n",
      "[10, 'apple', 34, 90, 87, 65]\n"
     ]
    }
   ],
   "source": [
    "#list Assignment and list copy\n",
    "#Assignment\n",
    "lst=[10,2,34,90,87,65]\n",
    "lst2=lst\n",
    "print(\"Assignment\")\n",
    "print(\"-----------\")\n",
    "print(lst2)\n",
    "lst[1]=\"apple\"\n",
    "print(lst)\n",
    "print(lst2) #change happend in the lst is also applied for lst2 ---> is called list assignment\n",
    "#copying\n",
    "print(\"copying\")\n",
    "print(\"--------\")\n",
    "lst3=list(lst) #list() is a list constructor\n",
    "print(lst3)\n",
    "lst[3]=45\n",
    "print(lst)\n",
    "print(lst3)"
   ]
  },
  {
   "cell_type": "code",
   "execution_count": 46,
   "id": "8dd77767",
   "metadata": {},
   "outputs": [
    {
     "name": "stdout",
     "output_type": "stream",
     "text": [
      "[1, 4, 9]\n"
     ]
    }
   ],
   "source": [
    "result=[x**2 for x in [1,2,3]]\n",
    "print(result)"
   ]
  },
  {
   "cell_type": "code",
   "execution_count": 48,
   "id": "258e989e",
   "metadata": {},
   "outputs": [
    {
     "name": "stdout",
     "output_type": "stream",
     "text": [
      "87\n",
      "2\n"
     ]
    }
   ],
   "source": [
    "#Negative Indexing\n",
    "print(lst[-2])\n",
    "print(t2[-2])"
   ]
  },
  {
   "cell_type": "code",
   "execution_count": 62,
   "id": "e0514f2e",
   "metadata": {},
   "outputs": [
    {
     "name": "stdout",
     "output_type": "stream",
     "text": [
      "1 2 3 4 5 6 7 8 9 10 \n",
      "1 2 3 4 5 "
     ]
    }
   ],
   "source": [
    "for i in range(1,11):\n",
    "    print(i,end=\" \")\n",
    "print()\n",
    "for j in [1,2,3,4,5]:\n",
    "    print(j,end=\" \")"
   ]
  },
  {
   "cell_type": "code",
   "execution_count": 35,
   "id": "0839f1fb",
   "metadata": {},
   "outputs": [
    {
     "name": "stdout",
     "output_type": "stream",
     "text": [
      "10\n",
      "20\n",
      "Prime numbers between 10 and 20 are : 11 13 17 19 "
     ]
    }
   ],
   "source": [
    "m = int(input())\n",
    "n=int(input())\n",
    "print(\"Prime numbers between\",m,\"and\",n,\"are :\",end=\" \")\n",
    "for num in range(m,n+1):\n",
    "    if isprime(num):\n",
    "        print(num,end=\" \")\n",
    "def isprime(n):\n",
    "    if n<=1:\n",
    "        return False\n",
    "    for i in range(2,int(n**0.5)+1):\n",
    "        if n%i==0:\n",
    "            return False\n",
    "    return True\n"
   ]
  },
  {
   "cell_type": "code",
   "execution_count": 2,
   "id": "b77161fb",
   "metadata": {},
   "outputs": [
    {
     "name": "stdout",
     "output_type": "stream",
     "text": [
      "25\n",
      "5\n"
     ]
    }
   ],
   "source": [
    "#Anonymous functions or Lambda functions\n",
    "f=lambda a:a*a\n",
    "print(f(5))\n",
    "s=lambda a,b:a+b\n",
    "print(s(2,3))"
   ]
  },
  {
   "cell_type": "code",
   "execution_count": 8,
   "id": "e200ce62",
   "metadata": {},
   "outputs": [
    {
     "name": "stdout",
     "output_type": "stream",
     "text": [
      "10 20 30 \n",
      "10 20 \n",
      "10 20 30 40 \n"
     ]
    }
   ],
   "source": [
    "#variable lenght arguments\n",
    "def func1(*mylist):\n",
    "    for num in mylist:\n",
    "        print(num,end=\" \")\n",
    "    print()\n",
    "    return\n",
    "#main\n",
    "func1(10,20,30)\n",
    "func1(10,20)\n",
    "func1(10,20,30,40)"
   ]
  },
  {
   "cell_type": "code",
   "execution_count": 15,
   "id": "56bc0062",
   "metadata": {},
   "outputs": [
    {
     "name": "stdout",
     "output_type": "stream",
     "text": [
      "9\n",
      "9\n",
      "12.346\n",
      "5\n",
      "-4\n",
      "4\n",
      "-5\n",
      "4\n",
      "-4\n"
     ]
    }
   ],
   "source": [
    "#numeric functions\n",
    "#abs\n",
    "print(abs(9))\n",
    "print(abs(-9))\n",
    "#round\n",
    "print(round(12.3457373,3))\n",
    "#ceil\n",
    "import math\n",
    "print(math.ceil(4.6))\n",
    "print(math.ceil(-4.6))\n",
    "#floor\n",
    "print(math.floor(4.6))\n",
    "print(math.floor(-4.6))\n",
    "#trunc\n",
    "print(math.trunc(4.5))\n",
    "print(math.trunc(-4.5))"
   ]
  },
  {
   "cell_type": "code",
   "execution_count": 22,
   "id": "7a7bf4bc",
   "metadata": {},
   "outputs": [
    {
     "name": "stdout",
     "output_type": "stream",
     "text": [
      "2.718281828459045\n",
      "54.598150033144236\n",
      "54.59815003314423\n",
      "5.0\n",
      "65\n",
      "12\n",
      "0.0\n",
      "1.0\n"
     ]
    }
   ],
   "source": [
    "#exponential\n",
    "print(math.e)\n",
    "print(math.exp(4))\n",
    "print(math.e**4)\n",
    "#square root\n",
    "print(math.sqrt(25))\n",
    "#Max and min\n",
    "print(max(12,45,34,65))\n",
    "print(min(12,45,34,65))\n",
    "#log\n",
    "print(math.log(1))\n",
    "print(math.log10(10))"
   ]
  },
  {
   "cell_type": "code",
   "execution_count": 30,
   "id": "e674d7c5",
   "metadata": {},
   "outputs": [
    {
     "name": "stdout",
     "output_type": "stream",
     "text": [
      "(0.0, 11.0)\n",
      "(0.9991000000000003, 12.0)\n",
      "16.0\n",
      "3.141592653589793\n",
      "180.0\n",
      "3.141592653589793\n"
     ]
    }
   ],
   "source": [
    "#modf\n",
    "print(math.modf(11)) #divides fractional and integer part\n",
    "print(math.modf(12.9991))\n",
    "#pow\n",
    "print(math.pow(4,2))\n",
    "#PI\n",
    "print(math.pi)\n",
    "#.degrees\n",
    "print(math.degrees(math.pi))\n",
    "#radians\n",
    "print(math.radians(180))"
   ]
  },
  {
   "cell_type": "code",
   "execution_count": 46,
   "id": "854f7a6d",
   "metadata": {},
   "outputs": [
    {
     "name": "stdout",
     "output_type": "stream",
     "text": [
      "Hello vijay,from raghu engineering college\n",
      "2\n",
      "True\n",
      "42\n",
      "6\n",
      "['hello', 'vijay,from', 'raghu', 'engineering', 'college']\n",
      "['hell', ' vijay,fr', 'm raghu engineering c', 'llege']\n",
      "Hello Vijay,From Raghu Engineering College\n"
     ]
    }
   ],
   "source": [
    "#string functions\n",
    "#capitalize   ----> it checks for first letter of the stirng\n",
    "str1=\"hello vijay,from raghu engineering college\"\n",
    "print(str1.capitalize())\n",
    "#count\n",
    "print(str1.count('ll'))\n",
    "#endswith\n",
    "print(str1.endswith('ege'))\n",
    "#length\n",
    "print(len(str1))\n",
    "#find\n",
    "print(str1.find('v'))\n",
    "#split\n",
    "print(str1.split())\n",
    "print(str1.split('o'))\n",
    "#title\n",
    "print(str1.title()) #---->title() will capitalize the first letter of the every word in the string"
   ]
  },
  {
   "cell_type": "code",
   "execution_count": 52,
   "id": "c6050be8",
   "metadata": {},
   "outputs": [
    {
     "name": "stdout",
     "output_type": "stream",
     "text": [
      "hello vijay,from raghu engineering college\n",
      "HELLO VIJAY,FROM RAGHU ENGINEERING COLLEGE\n",
      "True\n",
      "False\n",
      "HELLO VIJAY,FROM RAGHU ENGINEERING COLLEGE\n",
      "GJHsFddHGF\n"
     ]
    }
   ],
   "source": [
    "#lower and upper\n",
    "print(str1.lower())\n",
    "print(str1.upper())\n",
    "print(str1.islower())#---->it will check all the letters in lowercase or not\n",
    "print(str1.isupper())#---->it will check all the letters in uppercase or not\n",
    "#swapcase\n",
    "str2=\"gjhSfDDhgf\"\n",
    "print(str1.swapcase())\n",
    "print(str2.swapcase())#--->swap the case"
   ]
  },
  {
   "cell_type": "code",
   "execution_count": 63,
   "id": "5b40ad24",
   "metadata": {},
   "outputs": [
    {
     "name": "stdout",
     "output_type": "stream",
     "text": [
      "hello vijay,from NEC engineering college\n",
      "h$llo vijay,from raghu $ngin$$ring coll$g$\n",
      "False\n",
      "False\n",
      "True\n",
      "False\n",
      "True\n"
     ]
    }
   ],
   "source": [
    "#replace\n",
    "print(str1.replace('raghu','NEC'))\n",
    "print(str1.replace('e','$'))\n",
    "#isdigit\n",
    "str2='5457v'\n",
    "print(str1.isdigit())\n",
    "print(str2.isdigit())\n",
    "str3='5454'\n",
    "print(str3.isdigit())#--->it will check that string having all digits or not\n",
    "#isalpha ---->spaces are not considered as alphabets,so if the string has spaces it will false as output\n",
    "str4=\"ghhcgch\"\n",
    "print(str1.isalpha())\n",
    "print(str4.isalpha())#--->it will check that string having all alphabets or not "
   ]
  },
  {
   "cell_type": "code",
   "execution_count": 70,
   "id": "7c75a34a",
   "metadata": {},
   "outputs": [
    {
     "name": "stdout",
     "output_type": "stream",
     "text": [
      "hello\n",
      "hello\n",
      "helloaaaaaaahello\n",
      "hello!!!!!!\n",
      "!!!!hello\n"
     ]
    }
   ],
   "source": [
    "#strip\n",
    "str5=\"!!!!hello!!!!!!\"\n",
    "print(str5.strip('!'))\n",
    "str6=\"aaaaaaahelloaaaaaaa\"\n",
    "print(str6.strip('a'))\n",
    "str7=\"aaaaaaahelloaaaaaaahelloaaaaaaaa\"\n",
    "print(str7.strip('a'))#--->it can't strip middle letters\n",
    "#lstrip\n",
    "print(str5.lstrip('!'))\n",
    "#rstrip\n",
    "print(str5.rstrip('!'))"
   ]
  },
  {
   "cell_type": "code",
   "execution_count": 11,
   "id": "fa74440a",
   "metadata": {},
   "outputs": [
    {
     "name": "stdout",
     "output_type": "stream",
     "text": [
      "enter n value:8\n",
      "0 1 1 2 3 5 8 13 "
     ]
    }
   ],
   "source": [
    "n=int(input(\"enter n value:\"))\n",
    "a=0\n",
    "b=1\n",
    "print(a,b,end=\" \")\n",
    "for i in range(3,n+1):\n",
    "    c=a+b\n",
    "    print(c,end=\" \")\n",
    "    a=b\n",
    "    b=c"
   ]
  },
  {
   "cell_type": "code",
   "execution_count": 3,
   "id": "048ad583",
   "metadata": {},
   "outputs": [
    {
     "data": {
      "text/plain": [
       "['D:\\\\python\\\\Goli',\n",
       " 'C:\\\\Users\\\\vijay\\\\anaconda3\\\\python39.zip',\n",
       " 'C:\\\\Users\\\\vijay\\\\anaconda3\\\\DLLs',\n",
       " 'C:\\\\Users\\\\vijay\\\\anaconda3\\\\lib',\n",
       " 'C:\\\\Users\\\\vijay\\\\anaconda3',\n",
       " '',\n",
       " 'C:\\\\Users\\\\vijay\\\\anaconda3\\\\lib\\\\site-packages',\n",
       " 'C:\\\\Users\\\\vijay\\\\anaconda3\\\\lib\\\\site-packages\\\\win32',\n",
       " 'C:\\\\Users\\\\vijay\\\\anaconda3\\\\lib\\\\site-packages\\\\win32\\\\lib',\n",
       " 'C:\\\\Users\\\\vijay\\\\anaconda3\\\\lib\\\\site-packages\\\\Pythonwin',\n",
       " 'C:\\\\Users\\\\vijay\\\\anaconda3\\\\lib\\\\site-packages\\\\IPython\\\\extensions',\n",
       " 'C:\\\\Users\\\\vijay\\\\.ipython']"
      ]
     },
     "execution_count": 3,
     "metadata": {},
     "output_type": "execute_result"
    }
   ],
   "source": [
    "import sys\n",
    "sys.path\n"
   ]
  },
  {
   "cell_type": "code",
   "execution_count": 15,
   "id": "28d8bfea",
   "metadata": {},
   "outputs": [
    {
     "data": {
      "text/plain": [
       "120"
      ]
     },
     "execution_count": 15,
     "metadata": {},
     "output_type": "execute_result"
    }
   ],
   "source": [
    "import math\n",
    "math.factorial(5)"
   ]
  },
  {
   "cell_type": "code",
   "execution_count": 23,
   "id": "4839a36d",
   "metadata": {},
   "outputs": [
    {
     "name": "stdout",
     "output_type": "stream",
     "text": [
      "{'sun': 33.4, 'mon': 25, 'tue': 3555}\n",
      "{'sun': 33.4, 'mon': 132, 'tue': 3.2}\n",
      "dict_keys(['sun', 'mon', 'tue'])\n",
      "dict_values([33.4, 25, 3555])\n",
      "25\n"
     ]
    }
   ],
   "source": [
    "#DICTIONARIES\n",
    "temp={}\n",
    "temp['sun']=33.4\n",
    "temp['mon']=25\n",
    "temp['tue']=3555\n",
    "print(temp)\n",
    "temp1={'sun':33.4,'mon':132,'tue':3.2}\n",
    "print(temp1)\n",
    "print(temp.keys())\n",
    "print(temp.values())\n",
    "print(temp['mon'])"
   ]
  },
  {
   "cell_type": "code",
   "execution_count": 34,
   "id": "7b2e295e",
   "metadata": {},
   "outputs": [
    {
     "name": "stdout",
     "output_type": "stream",
     "text": [
      "{}\n",
      "{1: 'one', 2: 'two', 3: 'three'}\n",
      "{1: 'one', 2: 'two', 3: 'three'}\n",
      "3\n",
      "{1: 'one', 3: 'three'}\n"
     ]
    },
    {
     "data": {
      "text/plain": [
       "True"
      ]
     },
     "execution_count": 34,
     "metadata": {},
     "output_type": "execute_result"
    }
   ],
   "source": [
    "#DICTIONARIES OPERATIONS\n",
    "print(dict())# ---->dict() is dictionary constructor\n",
    "#copying dictionary\n",
    "num={1:'one',2:'two',3:'three'}\n",
    "print(num)\n",
    "numbers=dict(num)\n",
    "print(numbers)\n",
    "#length\n",
    "print(len(num))\n",
    "#delete\n",
    "del(num[2])\n",
    "print(num)\n",
    "#membership\n",
    "1 in num"
   ]
  },
  {
   "cell_type": "code",
   "execution_count": 60,
   "id": "a296f237",
   "metadata": {},
   "outputs": [
    {
     "name": "stdout",
     "output_type": "stream",
     "text": [
      "{1: 'apple', 2: 'mango', 3: 'carrot'}\n",
      "{1: 'apple', 2: 'mango', 3: 'carrot', 4: 'banana'}\n"
     ]
    }
   ],
   "source": [
    "#different ways to create dictionaries\n",
    "#list of tuples\n",
    "my_dict=dict([(1,\"apple\"),(2,\"mango\"),(3,\"carrot\")])\n",
    "print(my_dict)\n",
    "#two parallel lists\n",
    "a=[1,2,3,4]\n",
    "b=[\"apple\",\"mango\",\"carrot\",\"banana\"]\n",
    "my_dict={}\n",
    "for i in range(len(a)):\n",
    "    my_dict[a[i]]=b[i]\n",
    "print(my_dict)\n"
   ]
  },
  {
   "cell_type": "code",
   "execution_count": 61,
   "id": "22446791",
   "metadata": {},
   "outputs": [
    {
     "name": "stdout",
     "output_type": "stream",
     "text": [
      "carrot\n",
      "carrot\n",
      "{1: 'apple', 2: 'mango', 3: 'carrot', 4: 'banana', 5: 'dog'}\n",
      "{1: 'apple', 2: 'cat', 3: 'carrot', 4: 'banana', 5: 'dog'}\n",
      "5\n"
     ]
    }
   ],
   "source": [
    "print(my_dict[3])#we can access values by using keys but cannot access keys by using values\n",
    "#get()\n",
    "print(my_dict.get(3))\n",
    "#inserting an new element\n",
    "my_dict[5]=\"dog\"\n",
    "print(my_dict)\n",
    "#update\n",
    "my_dict[2]=\"cat\"\n",
    "print(my_dict)\n",
    "print(len(my_dict))"
   ]
  },
  {
   "cell_type": "code",
   "execution_count": 46,
   "id": "2672d165",
   "metadata": {},
   "outputs": [
    {
     "name": "stdout",
     "output_type": "stream",
     "text": [
      "{1: None, 2: None, 3: None, 4: None}\n",
      "{1: 10, 2: 10, 3: 10, 4: 10, 5: 10, 6: 10}\n"
     ]
    }
   ],
   "source": [
    "#fromkeys method\n",
    "list1=[1,2,3,4]\n",
    "print(dict.fromkeys(list1))\n",
    "print({}.fromkeys(range(1,7),10))"
   ]
  },
  {
   "cell_type": "code",
   "execution_count": 62,
   "id": "0911e516",
   "metadata": {},
   "outputs": [
    {
     "name": "stdout",
     "output_type": "stream",
     "text": [
      "20\n",
      "None\n",
      "{'vijay': 21, 'raghu': 20, 'karhtik': 21, 'revanth': None}\n",
      "22\n",
      "{'vijay': 21, 'raghu': 20, 'karhtik': 21, 'revanth': None, 'rev': 22}\n"
     ]
    }
   ],
   "source": [
    "#setdefault ---->prints the value if the given key is present,otherwise that key will be added to that dictionary\n",
    "stu={'vijay':21,'raghu':20,'karhtik':21}\n",
    "print(stu.setdefault('raghu'))\n",
    "print(stu.setdefault('revanth'))\n",
    "print(stu)\n",
    "print(stu.setdefault('rev',22))\n",
    "print(stu)"
   ]
  },
  {
   "cell_type": "code",
   "execution_count": 80,
   "id": "4c04f585",
   "metadata": {},
   "outputs": [
    {
     "name": "stdout",
     "output_type": "stream",
     "text": [
      "{1: 'ap', 2: 'tel', 3: 'mah'}\n",
      "{1: 'mad', 2: 'up'}\n",
      "tel\n",
      "{}\n"
     ]
    }
   ],
   "source": [
    "#we can not concat two dictionaries using + operator like lists,so  we can concat them by using update()\n",
    "d1={1:\"ap\",2:\"tel\",3:\"mah\"}\n",
    "d2={1:\"mad\",2:\"up\"}\n",
    "print(d1)\n",
    "print(d2)\n",
    "print(d1.pop(2))\n",
    "d2.clear()\n",
    "print(d2)"
   ]
  },
  {
   "cell_type": "code",
   "execution_count": 5,
   "id": "93d35186",
   "metadata": {},
   "outputs": [
    {
     "name": "stdout",
     "output_type": "stream",
     "text": [
      "{'banana', 'apple'}\n",
      "{'grapes', 'banana', 'apple'}\n",
      "frozenset({'lion', 'tiger'})\n"
     ]
    },
    {
     "ename": "AttributeError",
     "evalue": "'frozenset' object has no attribute 'add'",
     "output_type": "error",
     "traceback": [
      "\u001b[1;31m---------------------------------------------------------------------------\u001b[0m",
      "\u001b[1;31mAttributeError\u001b[0m                            Traceback (most recent call last)",
      "\u001b[1;32m~\\AppData\\Local\\Temp\\ipykernel_11708\\1447112932.py\u001b[0m in \u001b[0;36m<module>\u001b[1;34m\u001b[0m\n\u001b[0;32m      7\u001b[0m \u001b[0manimal\u001b[0m\u001b[1;33m=\u001b[0m\u001b[0mfrozenset\u001b[0m\u001b[1;33m(\u001b[0m\u001b[1;33m[\u001b[0m\u001b[1;34m'tiger'\u001b[0m\u001b[1;33m,\u001b[0m\u001b[1;34m'lion'\u001b[0m\u001b[1;33m]\u001b[0m\u001b[1;33m)\u001b[0m\u001b[1;33m\u001b[0m\u001b[1;33m\u001b[0m\u001b[0m\n\u001b[0;32m      8\u001b[0m \u001b[0mprint\u001b[0m\u001b[1;33m(\u001b[0m\u001b[0manimal\u001b[0m\u001b[1;33m)\u001b[0m\u001b[1;33m\u001b[0m\u001b[1;33m\u001b[0m\u001b[0m\n\u001b[1;32m----> 9\u001b[1;33m \u001b[0manimal\u001b[0m\u001b[1;33m.\u001b[0m\u001b[0madd\u001b[0m\u001b[1;33m(\u001b[0m\u001b[1;34m'elephant'\u001b[0m\u001b[1;33m)\u001b[0m \u001b[1;31m#---->frozenset means immutable set\u001b[0m\u001b[1;33m\u001b[0m\u001b[1;33m\u001b[0m\u001b[0m\n\u001b[0m\u001b[0;32m     10\u001b[0m \u001b[0mnum\u001b[0m\u001b[1;33m=\u001b[0m\u001b[1;33m{\u001b[0m\u001b[1;36m1\u001b[0m\u001b[1;33m,\u001b[0m\u001b[1;36m2\u001b[0m\u001b[1;33m,\u001b[0m\u001b[1;36m3\u001b[0m\u001b[1;33m,\u001b[0m\u001b[1;36m1\u001b[0m\u001b[1;33m,\u001b[0m\u001b[1;36m2\u001b[0m\u001b[1;33m,\u001b[0m\u001b[1;36m3\u001b[0m\u001b[1;33m,\u001b[0m\u001b[1;36m4\u001b[0m\u001b[1;33m,\u001b[0m\u001b[1;36m5\u001b[0m\u001b[1;33m,\u001b[0m\u001b[1;36m6\u001b[0m\u001b[1;33m}\u001b[0m\u001b[1;33m\u001b[0m\u001b[1;33m\u001b[0m\u001b[0m\n\u001b[0;32m     11\u001b[0m \u001b[0mprint\u001b[0m\u001b[1;33m(\u001b[0m\u001b[0mnum\u001b[0m\u001b[1;33m)\u001b[0m\u001b[1;33m\u001b[0m\u001b[1;33m\u001b[0m\u001b[0m\n",
      "\u001b[1;31mAttributeError\u001b[0m: 'frozenset' object has no attribute 'add'"
     ]
    }
   ],
   "source": [
    "#set\n",
    "fruits={\"apple\",\"banana\"}\n",
    "print(fruits)\n",
    "fruits.add(\"grapes\")\n",
    "print(fruits)\n",
    "#frozen set keyword\n",
    "animal=frozenset(['tiger','lion'])\n",
    "print(animal)\n",
    "animal.add('elephant') #---->frozenset means immutable set"
   ]
  },
  {
   "cell_type": "code",
   "execution_count": 6,
   "id": "549d222d",
   "metadata": {},
   "outputs": [
    {
     "name": "stdout",
     "output_type": "stream",
     "text": [
      "{1, 2, 3, 4, 5, 6}\n"
     ]
    }
   ],
   "source": [
    "num={1,2,3,1,2,3,4,5,6}\n",
    "print(num) #--->sets doesnot allow duplicative values"
   ]
  },
  {
   "cell_type": "code",
   "execution_count": 12,
   "id": "ea2c8d1b",
   "metadata": {},
   "outputs": [
    {
     "name": "stdout",
     "output_type": "stream",
     "text": [
      "<class 'dict'>\n",
      "<class 'set'>\n",
      "{1, 2, 3, 4}\n",
      "{1, 2, 3, 4}\n"
     ]
    }
   ],
   "source": [
    "emptyset={}\n",
    "print(type(emptyset))#--->it shows the empty dictionary but we need to create empty set \n",
    "emptyset1=set()#--->so we need to use set() to create empty set\n",
    "print(type(emptyset1))\n",
    "#copying set\n",
    "num={1,2,3,4}\n",
    "num1=set(num)\n",
    "print(num1)\n",
    "print(num)"
   ]
  },
  {
   "cell_type": "code",
   "execution_count": 23,
   "id": "1a8114e5",
   "metadata": {},
   "outputs": [
    {
     "name": "stdout",
     "output_type": "stream",
     "text": [
      "False\n",
      "True\n",
      "{1, 2, 3, 4, 5, 'hello'}\n",
      "{1, 2, 3, 5, 'hello'}\n",
      "{1, 2, 3, 5, 'apple', 'hello'}\n",
      "set()\n"
     ]
    }
   ],
   "source": [
    "#set operations\n",
    "#membership\n",
    "set1={1,2,3,4,'hello'}\n",
    "print(6 in set1)\n",
    "print(4 in set1)\n",
    "#ADD\n",
    "set1.add(5)\n",
    "print(set1)\n",
    "#remove\n",
    "set1.remove(4)\n",
    "print(set1)\n",
    "#union\n",
    "set2={1,'apple'}\n",
    "print(set1|set2)\n",
    "#CLEAR\n",
    "set2.clear()\n",
    "print(set2)"
   ]
  },
  {
   "cell_type": "code",
   "execution_count": 32,
   "id": "606e7b85",
   "metadata": {},
   "outputs": [
    {
     "name": "stdout",
     "output_type": "stream",
     "text": [
      "{2, 5}\n",
      "{1, 3, 'hello'}\n",
      "{4, 'apple', 6}\n",
      "{1, 3, 4, 6, 'hello', 'apple'}\n",
      "5\n",
      "{2, 4, 5, 6, 'apple'}\n"
     ]
    }
   ],
   "source": [
    "#intersection\n",
    "set2={2,4,5,6,'apple'}\n",
    "print(set1&set2)\n",
    "#DIFFERENCE\n",
    "print(set1-set2)\n",
    "print(set2-set1)\n",
    "#SYMMETRIC DIFFERENCE  --->prints the elements which are not common\n",
    "print(set1^set2)\n",
    "#size\n",
    "print(len(set2))\n",
    "#copy\n",
    "set3=set2.copy()\n",
    "print(set3)"
   ]
  },
  {
   "cell_type": "code",
   "execution_count": 42,
   "id": "eb95ab92",
   "metadata": {},
   "outputs": [
    {
     "name": "stdout",
     "output_type": "stream",
     "text": [
      "Hello People ,how are you man??Hi this is Vijay\n"
     ]
    }
   ],
   "source": [
    "#FILE HANDLING\n",
    "textfile=open(\"text.txt\",'w')\n",
    "textfile.write(\"Hello People ,how are you man??\")\n",
    "textfile.close()\n",
    "textfile=open(\"text.txt\",'a')\n",
    "textfile.write(\"Hi this is Vijay\")\n",
    "textfile.close()\n",
    "textfile=open(\"text.txt\",'r')\n",
    "print(textfile.read())\n",
    "textfile.close()"
   ]
  },
  {
   "cell_type": "code",
   "execution_count": 57,
   "id": "96600b8b",
   "metadata": {},
   "outputs": [],
   "source": [
    "#rename is also same as remove()\n",
    "#remove\n",
    "import os\n",
    "os.remove(\"text.txt\")"
   ]
  },
  {
   "cell_type": "code",
   "execution_count": null,
   "id": "52772195",
   "metadata": {},
   "outputs": [],
   "source": []
  }
 ],
 "metadata": {
  "kernelspec": {
   "display_name": "Python 3 (ipykernel)",
   "language": "python",
   "name": "python3"
  },
  "language_info": {
   "codemirror_mode": {
    "name": "ipython",
    "version": 3
   },
   "file_extension": ".py",
   "mimetype": "text/x-python",
   "name": "python",
   "nbconvert_exporter": "python",
   "pygments_lexer": "ipython3",
   "version": "3.9.13"
  }
 },
 "nbformat": 4,
 "nbformat_minor": 5
}
