{
 "cells": [
  {
   "cell_type": "markdown",
   "id": "02a54eb7",
   "metadata": {},
   "source": [
    "# DATA STRUCTURES"
   ]
  },
  {
   "cell_type": "markdown",
   "id": "bdb11276",
   "metadata": {},
   "source": [
    "## STACKS"
   ]
  },
  {
   "cell_type": "code",
   "execution_count": 7,
   "id": "a8b9142f",
   "metadata": {},
   "outputs": [
    {
     "name": "stdout",
     "output_type": "stream",
     "text": [
      "[2, 3, 25, 5]\n",
      "[]\n"
     ]
    }
   ],
   "source": [
    "#you know already about the stacks structure\n",
    "#push operation --->adding elements to the stacks\n",
    "stack=[]\n",
    "stack.append(2)\n",
    "stack.append(3)\n",
    "stack.append(25)\n",
    "stack.append(5)\n",
    "print(stack)\n",
    "stack.pop()\n",
    "stack.pop()\n",
    "stack.pop()\n",
    "stack.pop()\n",
    "print(stack)"
   ]
  },
  {
   "cell_type": "code",
   "execution_count": 14,
   "id": "7ed76200",
   "metadata": {},
   "outputs": [
    {
     "name": "stdout",
     "output_type": "stream",
     "text": [
      "0\n",
      "True\n"
     ]
    }
   ],
   "source": [
    "#to check stack empty or not\n",
    "print(len(stack))\n",
    "print(not stack)"
   ]
  },
  {
   "cell_type": "code",
   "execution_count": 15,
   "id": "e9d25d49",
   "metadata": {},
   "outputs": [
    {
     "name": "stdout",
     "output_type": "stream",
     "text": [
      "25\n"
     ]
    }
   ],
   "source": [
    "#for finding the top element of the stack\n",
    "stack.append(2)\n",
    "stack.append(3)\n",
    "stack.append(25)\n",
    "print(stack[-1])"
   ]
  },
  {
   "cell_type": "code",
   "execution_count": 4,
   "id": "162895f6",
   "metadata": {},
   "outputs": [
    {
     "name": "stdout",
     "output_type": "stream",
     "text": [
      "Enter the limit of the stack:4\n",
      "Enter the operation;1.Push;2.pop;3.quit\n",
      "1\n",
      "Enter the element:10\n",
      "['10']\n",
      "Enter the operation;1.Push;2.pop;3.quit\n",
      "1\n",
      "Enter the element:20\n",
      "['10', '20']\n",
      "Enter the operation;1.Push;2.pop;3.quit\n",
      "1\n",
      "Enter the element:30\n",
      "['10', '20', '30']\n",
      "Enter the operation;1.Push;2.pop;3.quit\n",
      "1\n",
      "Enter the element:40\n",
      "['10', '20', '30', '40']\n",
      "Enter the operation;1.Push;2.pop;3.quit\n",
      "1\n",
      "stack id full\n",
      "Enter the operation;1.Push;2.pop;3.quit\n",
      "2\n",
      "removed element is : 40\n",
      "['10', '20', '30']\n",
      "Enter the operation;1.Push;2.pop;3.quit\n",
      "2\n",
      "removed element is : 30\n",
      "['10', '20']\n",
      "Enter the operation;1.Push;2.pop;3.quit\n",
      "3\n"
     ]
    }
   ],
   "source": [
    "#EXAMPLE FOR THE STACK using \"lists\"\n",
    "stack1=[]\n",
    "n=int(input(\"Enter the limit of the stack:\"))\n",
    "def push():\n",
    "    if len(stack1)==n:\n",
    "        print(\"stack is full\")\n",
    "    else:\n",
    "        element=input(\"Enter the element:\")\n",
    "        stack1.append(element)\n",
    "        print(stack1)\n",
    "def pop():\n",
    "    if not stack1:\n",
    "        print(\"stack is empty\")\n",
    "    else:\n",
    "        e=stack1.pop()\n",
    "        print(\"removed element is :\",e)\n",
    "        print(stack1)\n",
    "while True:\n",
    "    print(\"Enter the operation;1.Push;2.pop;3.quit\")\n",
    "    choice=int(input())\n",
    "    if choice==1:\n",
    "        push()\n",
    "    elif choice==2:\n",
    "        pop()\n",
    "    elif choice==3:\n",
    "        break\n",
    "    else:\n",
    "        print(\"Enter the correct operation\")"
   ]
  },
  {
   "cell_type": "code",
   "execution_count": 8,
   "id": "ff37ceb9",
   "metadata": {},
   "outputs": [
    {
     "name": "stdout",
     "output_type": "stream",
     "text": [
      "deque([])\n",
      "deque([10, 20, 30])\n",
      "deque([])\n",
      "True\n",
      "10\n"
     ]
    }
   ],
   "source": [
    "#STACK IMPLEMENTATION USING MODULE\n",
    "#from the collections module we can use the deque class\n",
    "import collections\n",
    "stack=collections.deque()\n",
    "print(stack)\n",
    "stack.append(10)\n",
    "stack.append(20)\n",
    "stack.append(30)\n",
    "print(stack)\n",
    "stack.pop()\n",
    "stack.pop()\n",
    "stack.pop()\n",
    "print(stack)\n",
    "print(not stack)#--->here not checks for if the stack is empty or not\n",
    "stack.append(10)\n",
    "print(stack[-1])"
   ]
  },
  {
   "cell_type": "code",
   "execution_count": 6,
   "id": "51786cfe",
   "metadata": {},
   "outputs": [
    {
     "name": "stdout",
     "output_type": "stream",
     "text": [
      "30\n",
      "20\n",
      "10\n"
     ]
    },
    {
     "ename": "Empty",
     "evalue": "",
     "output_type": "error",
     "traceback": [
      "\u001b[1;31m---------------------------------------------------------------------------\u001b[0m",
      "\u001b[1;31mEmpty\u001b[0m                                     Traceback (most recent call last)",
      "\u001b[1;32m~\\AppData\\Local\\Temp\\ipykernel_10056\\2656726846.py\u001b[0m in \u001b[0;36m<module>\u001b[1;34m\u001b[0m\n\u001b[0;32m      7\u001b[0m \u001b[0mprint\u001b[0m\u001b[1;33m(\u001b[0m\u001b[0mstack\u001b[0m\u001b[1;33m.\u001b[0m\u001b[0mget\u001b[0m\u001b[1;33m(\u001b[0m\u001b[1;33m)\u001b[0m\u001b[1;33m)\u001b[0m\u001b[1;33m\u001b[0m\u001b[1;33m\u001b[0m\u001b[0m\n\u001b[0;32m      8\u001b[0m \u001b[0mprint\u001b[0m\u001b[1;33m(\u001b[0m\u001b[0mstack\u001b[0m\u001b[1;33m.\u001b[0m\u001b[0mget\u001b[0m\u001b[1;33m(\u001b[0m\u001b[1;33m)\u001b[0m\u001b[1;33m)\u001b[0m\u001b[1;33m\u001b[0m\u001b[1;33m\u001b[0m\u001b[0m\n\u001b[1;32m----> 9\u001b[1;33m \u001b[0mprint\u001b[0m\u001b[1;33m(\u001b[0m\u001b[0mstack\u001b[0m\u001b[1;33m.\u001b[0m\u001b[0mget\u001b[0m\u001b[1;33m(\u001b[0m\u001b[0mtimeout\u001b[0m\u001b[1;33m=\u001b[0m\u001b[1;36m1\u001b[0m\u001b[1;33m)\u001b[0m\u001b[1;33m)\u001b[0m\u001b[1;33m\u001b[0m\u001b[1;33m\u001b[0m\u001b[0m\n\u001b[0m",
      "\u001b[1;32m~\\anaconda3\\lib\\queue.py\u001b[0m in \u001b[0;36mget\u001b[1;34m(self, block, timeout)\u001b[0m\n\u001b[0;32m    177\u001b[0m                     \u001b[0mremaining\u001b[0m \u001b[1;33m=\u001b[0m \u001b[0mendtime\u001b[0m \u001b[1;33m-\u001b[0m \u001b[0mtime\u001b[0m\u001b[1;33m(\u001b[0m\u001b[1;33m)\u001b[0m\u001b[1;33m\u001b[0m\u001b[1;33m\u001b[0m\u001b[0m\n\u001b[0;32m    178\u001b[0m                     \u001b[1;32mif\u001b[0m \u001b[0mremaining\u001b[0m \u001b[1;33m<=\u001b[0m \u001b[1;36m0.0\u001b[0m\u001b[1;33m:\u001b[0m\u001b[1;33m\u001b[0m\u001b[1;33m\u001b[0m\u001b[0m\n\u001b[1;32m--> 179\u001b[1;33m                         \u001b[1;32mraise\u001b[0m \u001b[0mEmpty\u001b[0m\u001b[1;33m\u001b[0m\u001b[1;33m\u001b[0m\u001b[0m\n\u001b[0m\u001b[0;32m    180\u001b[0m                     \u001b[0mself\u001b[0m\u001b[1;33m.\u001b[0m\u001b[0mnot_empty\u001b[0m\u001b[1;33m.\u001b[0m\u001b[0mwait\u001b[0m\u001b[1;33m(\u001b[0m\u001b[0mremaining\u001b[0m\u001b[1;33m)\u001b[0m\u001b[1;33m\u001b[0m\u001b[1;33m\u001b[0m\u001b[0m\n\u001b[0;32m    181\u001b[0m             \u001b[0mitem\u001b[0m \u001b[1;33m=\u001b[0m \u001b[0mself\u001b[0m\u001b[1;33m.\u001b[0m\u001b[0m_get\u001b[0m\u001b[1;33m(\u001b[0m\u001b[1;33m)\u001b[0m\u001b[1;33m\u001b[0m\u001b[1;33m\u001b[0m\u001b[0m\n",
      "\u001b[1;31mEmpty\u001b[0m: "
     ]
    }
   ],
   "source": [
    "import queue\n",
    "stack=queue.LifoQueue(3)#In this parenthesis,we can mention limit of the stack\n",
    "stack.put(10)\n",
    "stack.put(20)\n",
    "stack.put(30)#if we mention timeout ,then it gives full error in within mentioned time,otherwise it will get late\n",
    "print(stack.get())\n",
    "print(stack.get())\n",
    "print(stack.get())\n",
    "print(stack.get(timeout=1))#if we mention timeout ,then it gives emptyt error in within mentioned time,otherwise it will get late"
   ]
  },
  {
   "cell_type": "code",
   "execution_count": 28,
   "id": "dd8b7bfb",
   "metadata": {},
   "outputs": [
    {
     "name": "stdout",
     "output_type": "stream",
     "text": [
      "Enter the limit:3\n",
      "10\n",
      "['10']\n",
      "20\n",
      "['10', '20']\n",
      "30\n",
      "['10', '20', '30']\n"
     ]
    }
   ],
   "source": [
    "stack2=[]\n",
    "while True:\n",
    "    print(\"Enter the operation 1.push 2.pop 3.exit\")\n",
    "    ch=int(input(\"Enter your option\"))\n",
    "    if ch==1:\n",
    "        push()\n",
    "    elif ch==2:\n",
    "        pop()\n",
    "    elif ch==3:\n",
    "        break\n",
    "    else:\n",
    "        print(\"Enter the corerct opiton\")\n",
    "def push():\n",
    "    e=int(input(\"Enter the element:\"))\n",
    "    stack.append(e)\n",
    "def pop():\n",
    "    stack2.pop()"
   ]
  },
  {
   "cell_type": "code",
   "execution_count": null,
   "id": "0adbfd96",
   "metadata": {},
   "outputs": [],
   "source": []
  }
 ],
 "metadata": {
  "kernelspec": {
   "display_name": "Python 3 (ipykernel)",
   "language": "python",
   "name": "python3"
  },
  "language_info": {
   "codemirror_mode": {
    "name": "ipython",
    "version": 3
   },
   "file_extension": ".py",
   "mimetype": "text/x-python",
   "name": "python",
   "nbconvert_exporter": "python",
   "pygments_lexer": "ipython3",
   "version": "3.9.13"
  }
 },
 "nbformat": 4,
 "nbformat_minor": 5
}
